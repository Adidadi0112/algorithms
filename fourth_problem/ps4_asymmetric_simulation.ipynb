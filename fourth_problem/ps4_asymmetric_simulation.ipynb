{
 "cells": [
  {
   "cell_type": "markdown",
   "id": "32a0a4da",
   "metadata": {},
   "source": [
    "# Problem Set 4: Simulated Asymmetric Cryptography Environment\n",
    "\n",
    "This notebook demonstrates a complete mini‑ecosystem with three actors:\n",
    "\n",
    "* **Alice** – the sender who encrypts a secret message for Bob.\n",
    "* **Bob** – the receiver who generates an RSA public/private key pair and decrypts Alice's message.\n",
    "* **Eve** – an eavesdropper who tries to recover the plaintext by attacking RSA via integer factorisation.\n",
    "\n"
   ]
  },
  {
   "cell_type": "markdown",
   "id": "c8dc80b0",
   "metadata": {},
   "source": [
    "##  Key generation for Bob"
   ]
  },
  {
   "cell_type": "code",
   "execution_count": 1,
   "id": "e2211dab",
   "metadata": {},
   "outputs": [],
   "source": [
    "import sympy, math, random\n",
    "bits = 128\n",
    "e = 65537 # fix value (higher value of e = more secure algorithm)\n",
    "while True:\n",
    "    p = sympy.randprime(2**(bits-1), 2**bits) # first prime\n",
    "    q = sympy.nextprime(p + random.randrange(1, 2**18)) # second prime, close to first just for easy calculation\n",
    "    if p != q and math.gcd(e, (p-1)*(q-1)) == 1: # ensure p and q are different and greatest common divisor – największy wspólny dzielnik\n",
    "        break\n",
    "n = p*q\n",
    "phi = (p-1)*(q-1)\n",
    "d = pow(e, -1, phi)"
   ]
  },
  {
   "cell_type": "markdown",
   "id": "27153da4",
   "metadata": {},
   "source": [
    "## Alice encrypts a message"
   ]
  },
  {
   "cell_type": "code",
   "execution_count": 2,
   "id": "93d6b77b",
   "metadata": {},
   "outputs": [
    {
     "name": "stdout",
     "output_type": "stream",
     "text": [
      "15073030572527895729574345061834079640846642642090679248842159905584454500094\n"
     ]
    }
   ],
   "source": [
    "msg = \"Hello Bob!\"\n",
    "m = int.from_bytes(msg.encode(), \"big\")\n",
    "c = pow(m, e, n)\n",
    "print(c)"
   ]
  },
  {
   "cell_type": "markdown",
   "id": "da278274",
   "metadata": {},
   "source": [
    "## Bob decrypts"
   ]
  },
  {
   "cell_type": "code",
   "execution_count": 8,
   "id": "f2954407",
   "metadata": {},
   "outputs": [
    {
     "name": "stdout",
     "output_type": "stream",
     "text": [
      "Hello Bob!\n"
     ]
    }
   ],
   "source": [
    "plain = pow(c, d, n)\n",
    "print(plain.to_bytes((plain.bit_length()+7)//8, \"big\").decode())"
   ]
  },
  {
   "cell_type": "markdown",
   "id": "3db65a2f",
   "metadata": {},
   "source": [
    "## Fermat Attack by Eve"
   ]
  },
  {
   "cell_type": "code",
   "execution_count": 3,
   "id": "6798486b",
   "metadata": {},
   "outputs": [
    {
     "name": "stdout",
     "output_type": "stream",
     "text": [
      "Hello Bob!\n",
      "factorisation seconds: 0.000225\n"
     ]
    }
   ],
   "source": [
    "import math, time\n",
    "def fermat(n):\n",
    "    a = math.isqrt(n) # start with the integer square root of n\n",
    "    if a*a < n: # if a*a is less than n, we need to increment a\n",
    "        a += 1\n",
    "    while True:\n",
    "        b2 = a*a - n\n",
    "        b = math.isqrt(b2)\n",
    "        if b*b == b2: # p = a-b, q = a+b\n",
    "            return a-b, a+b\n",
    "        a += 1\n",
    "\n",
    "t = time.perf_counter()\n",
    "pf, qf = fermat(n)\n",
    "phi_f = (pf-1)*(qf-1)\n",
    "d_f = pow(e, -1, phi_f)\n",
    "m_eve = pow(c, d_f, n)\n",
    "elapsed = time.perf_counter() - t\n",
    "print(m_eve.to_bytes((m_eve.bit_length()+7)//8, \"big\").decode())\n",
    "print(\"factorisation seconds:\", round(elapsed,6))"
   ]
  },
  {
   "cell_type": "markdown",
   "id": "6c95283d",
   "metadata": {},
   "source": [
    "$$  $$"
   ]
  },
  {
   "cell_type": "markdown",
   "id": "34f0c8da",
   "metadata": {},
   "source": [
    "We can describe n as:\n",
    "$$ n = a^2 - b^2 $$\n",
    "$$ n = (a-b)(a+b) $$\n",
    "\n",
    "If p and q primes are close enough, we say that $$ (p+q)/2 $$ is approximately equal to $$ \\sqrt{n} $$ Set  \n",
    "\n",
    "\n",
    "$$ a = \\bigl\\lceil\\sqrt{n}\\bigr\\rceil $$\n",
    "\n",
    "\n",
    "(the first integer *not smaller* than $$(\\sqrt n)$$).  \n",
    "Because \\(a\\) is almost the average of \\(p\\) and \\(q\\), there exists a *small* integer \\(b\\) such that  \n",
    "\n",
    "\n",
    "$$ n = a^{2} - b^{2} \n",
    "\\;=\\; (a-b)\\,(a+b), $$\n",
    "\n",
    "\n",
    "and therefore  \n",
    "\n",
    "$$\n",
    "p = a - b, \n",
    "\\qquad\n",
    "q = a + b .\n",
    "$$\n"
   ]
  }
 ],
 "metadata": {
  "kernelspec": {
   "display_name": "dashboard",
   "language": "python",
   "name": "python3"
  },
  "language_info": {
   "codemirror_mode": {
    "name": "ipython",
    "version": 3
   },
   "file_extension": ".py",
   "mimetype": "text/x-python",
   "name": "python",
   "nbconvert_exporter": "python",
   "pygments_lexer": "ipython3",
   "version": "3.10.14"
  }
 },
 "nbformat": 4,
 "nbformat_minor": 5
}
